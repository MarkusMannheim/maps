{
 "cells": [
  {
   "cell_type": "code",
   "execution_count": 76,
   "id": "699c1023-addf-4353-9234-fc933effa53c",
   "metadata": {},
   "outputs": [],
   "source": [
    "import pandas as pd, numpy as np\n",
    "import geopandas as gpd\n",
    "import matplotlib.pyplot as plt, seaborn as sns\n",
    "\n",
    "data = pd.read_csv(\n",
    "    \"./schoolProjections.csv\"\n",
    ")\n",
    "\n",
    "schools = gpd.GeoDataFrame(\n",
    "    data=data\n",
    ")\n",
    "schools[\"geometry\"] = gpd.points_from_xy(x=data.lng, y=data.lat)\n",
    "schools[\"school\"] = schools.school.str.replace(\"*\", \"\", regex=False)\n",
    "\n",
    "schools_final = schools[\n",
    "    schools.school.map(lambda x: x in [\"The Canberra College\", \"Gungahlin College\"])\n",
    "][[\"school\", \"geometry\"]]\n",
    "\n",
    "schools_crowded = schools[\n",
    "    (schools.school.map(lambda x: x not in [\"The Canberra College\", \"Gungahlin College\"])) &\n",
    "    (schools.capacity_2027 >= .85)\n",
    "][[\"school\", \"geometry\"]]\n",
    "\n",
    "schools_other = schools[\n",
    "    (schools.school.map(lambda x: x not in [\"The Canberra College\", \"Gungahlin College\"])) &\n",
    "    (schools.capacity_2027 < .85)\n",
    "][[\"school\", \"geometry\"]]\n",
    "\n",
    "schools_final.to_file(\"./schools_final.geojson\")\n",
    "schools_crowded.to_file(\"./schools_crowded.geojson\")\n",
    "schools_other.to_file(\"./schools_other.geojson\")"
   ]
  },
  {
   "cell_type": "code",
   "execution_count": null,
   "id": "62d475e9-0a4a-41ed-8d2b-04baf83a1065",
   "metadata": {},
   "outputs": [],
   "source": []
  }
 ],
 "metadata": {
  "kernelspec": {
   "display_name": "Python 3 (ipykernel)",
   "language": "python",
   "name": "python3"
  },
  "language_info": {
   "codemirror_mode": {
    "name": "ipython",
    "version": 3
   },
   "file_extension": ".py",
   "mimetype": "text/x-python",
   "name": "python",
   "nbconvert_exporter": "python",
   "pygments_lexer": "ipython3",
   "version": "3.10.8"
  }
 },
 "nbformat": 4,
 "nbformat_minor": 5
}
